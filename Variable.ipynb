{
  "nbformat": 4,
  "nbformat_minor": 0,
  "metadata": {
    "colab": {
      "provenance": [],
      "authorship_tag": "ABX9TyMn6Bms7KaMGoyG/fQqHYKk",
      "include_colab_link": true
    },
    "kernelspec": {
      "name": "python3",
      "display_name": "Python 3"
    },
    "language_info": {
      "name": "python"
    }
  },
  "cells": [
    {
      "cell_type": "markdown",
      "metadata": {
        "id": "view-in-github",
        "colab_type": "text"
      },
      "source": [
        "<a href=\"https://colab.research.google.com/github/YMVR/Codelad/blob/main/Variable.ipynb\" target=\"_parent\"><img src=\"https://colab.research.google.com/assets/colab-badge.svg\" alt=\"Open In Colab\"/></a>"
      ]
    },
    {
      "cell_type": "code",
      "source": [
        "Nombre= \"Pedro\"\n",
        "saludo= \"Buen dia\"\n",
        "\n",
        "saludocompleto= saludo + \" ,\" + Nombre\n",
        "print(saludocompleto)"
      ],
      "metadata": {
        "colab": {
          "base_uri": "https://localhost:8080/"
        },
        "id": "rofgXH_YciKh",
        "outputId": "1509cadf-63b3-4c0d-f8e5-888250db2141"
      },
      "execution_count": null,
      "outputs": [
        {
          "output_type": "stream",
          "name": "stdout",
          "text": [
            "Buen dia ,Pedro\n"
          ]
        }
      ]
    },
    {
      "cell_type": "code",
      "source": [
        "texto1= \"¿En que te puedo ayudar?\"\n",
        "textofinal= saludocompleto  + texto1\n",
        "print(textofinal)"
      ],
      "metadata": {
        "colab": {
          "base_uri": "https://localhost:8080/"
        },
        "id": "Fc7m73TzdqeK",
        "outputId": "76c096b9-ae96-470c-d0fa-6da4a580864f"
      },
      "execution_count": null,
      "outputs": [
        {
          "output_type": "stream",
          "name": "stdout",
          "text": [
            "Buen dia ,Pedro¿En que te puedo ayudar?\n"
          ]
        }
      ]
    },
    {
      "cell_type": "code",
      "source": [
        "nombre= input()\n",
        "edad= int(input())\n",
        "print(f\"Hola {nombre}, tu edad es {edad}\")"
      ],
      "metadata": {
        "id": "CVGgODCZEca3",
        "colab": {
          "base_uri": "https://localhost:8080/"
        },
        "outputId": "5710cd58-380e-458d-d8bf-13af5419b1fa"
      },
      "execution_count": null,
      "outputs": [
        {
          "output_type": "stream",
          "name": "stdout",
          "text": [
            "Pedro\n",
            "24\n",
            "Hola Pedro, tu edad es 24\n"
          ]
        }
      ]
    },
    {
      "cell_type": "code",
      "source": [
        "n=2\n",
        "suma= n*(n+1)/2\n",
        "print(suma)\n"
      ],
      "metadata": {
        "id": "fFZUZxQDsKBH",
        "colab": {
          "base_uri": "https://localhost:8080/"
        },
        "outputId": "cceba2e3-4a5d-4e75-9edf-e9ae1171badc"
      },
      "execution_count": 3,
      "outputs": [
        {
          "output_type": "stream",
          "name": "stdout",
          "text": [
            "3.0\n"
          ]
        }
      ]
    },
    {
      "cell_type": "code",
      "source": [
        "suma= 0\n",
        "n=1\n",
        "while n != 0:\n",
        "   n= int(input(\"Ingresa un numero:\"))\n",
        "   if n != 0:\n",
        "      if n % 2 ==0:\n",
        "         suma = suma + n\n",
        "print(\"la suma de los numeros pares: \", suma)"
      ],
      "metadata": {
        "colab": {
          "base_uri": "https://localhost:8080/"
        },
        "id": "fpSyZYYOR1K9",
        "outputId": "e9a344f5-af1f-47ee-a6c1-7c332b55fadf"
      },
      "execution_count": 9,
      "outputs": [
        {
          "output_type": "stream",
          "name": "stdout",
          "text": [
            "Ingresa un numero:1\n",
            "Ingresa un numero:2\n",
            "Ingresa un numero:3\n",
            "Ingresa un numero:4\n",
            "Ingresa un numero:5\n",
            "Ingresa un numero:6\n",
            "Ingresa un numero:7\n",
            "Ingresa un numero:8\n",
            "Ingresa un numero:9\n",
            "Ingresa un numero:10\n",
            "Ingresa un numero:0\n",
            "la suma de los numeros pares:  30\n"
          ]
        }
      ]
    }
  ]
}