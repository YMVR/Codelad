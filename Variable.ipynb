{
  "nbformat": 4,
  "nbformat_minor": 0,
  "metadata": {
    "colab": {
      "provenance": [],
      "authorship_tag": "ABX9TyMprMoDpCvi3ba1lh51OhGh",
      "include_colab_link": true
    },
    "kernelspec": {
      "name": "python3",
      "display_name": "Python 3"
    },
    "language_info": {
      "name": "python"
    }
  },
  "cells": [
    {
      "cell_type": "markdown",
      "metadata": {
        "id": "view-in-github",
        "colab_type": "text"
      },
      "source": [
        "<a href=\"https://colab.research.google.com/github/YMVR/Codelad/blob/main/Variable.ipynb\" target=\"_parent\"><img src=\"https://colab.research.google.com/assets/colab-badge.svg\" alt=\"Open In Colab\"/></a>"
      ]
    },
    {
      "cell_type": "code",
      "source": [
        "Nombre= \"Pedro\"\n",
        "saludo= \"Buen dia\"\n",
        "\n",
        "saludocompleto= saludo + \" ,\" + Nombre\n",
        "print(saludocompleto)"
      ],
      "metadata": {
        "colab": {
          "base_uri": "https://localhost:8080/"
        },
        "id": "rofgXH_YciKh",
        "outputId": "c2ec3f91-6782-473a-d872-d5311bc3d830"
      },
      "execution_count": null,
      "outputs": [
        {
          "output_type": "stream",
          "name": "stdout",
          "text": [
            "Buen dia ,Pedro\n"
          ]
        }
      ]
    },
    {
      "cell_type": "code",
      "source": [
        "texto1= \"¿En que te puedo ayudar?\"\n",
        "textofinal= saludocompleto  + texto1\n",
        "print(textofinal)"
      ],
      "metadata": {
        "colab": {
          "base_uri": "https://localhost:8080/"
        },
        "id": "Fc7m73TzdqeK",
        "outputId": "270eae38-000e-4701-9b6f-955de8c31d58"
      },
      "execution_count": null,
      "outputs": [
        {
          "output_type": "stream",
          "name": "stdout",
          "text": [
            "Buen dia ,Pedro¿En que te puedo ayudar?\n"
          ]
        }
      ]
    },
    {
      "cell_type": "code",
      "source": [],
      "metadata": {
        "id": "CVGgODCZEca3"
      },
      "execution_count": null,
      "outputs": []
    },
    {
      "cell_type": "code",
      "source": [],
      "metadata": {
        "id": "ufObLkJbfuWa"
      },
      "execution_count": null,
      "outputs": []
    }
  ]
}